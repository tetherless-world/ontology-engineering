{
 "cells": [
  {
   "cell_type": "code",
   "execution_count": 1,
   "metadata": {},
   "outputs": [
    {
     "name": "stderr",
     "output_type": "stream",
     "text": [
      "/Users/avery/Library/Python/3.9/lib/python/site-packages/urllib3/__init__.py:34: NotOpenSSLWarning: urllib3 v2.0 only supports OpenSSL 1.1.1+, currently the 'ssl' module is compiled with 'LibreSSL 2.8.3'. See: https://github.com/urllib3/urllib3/issues/3020\n",
      "  warnings.warn(\n"
     ]
    }
   ],
   "source": [
    "from waybackpy import WaybackMachineCDXServerAPI\n",
    "import requests\n",
    "import xmltodict\n",
    "import json\n",
    "import time"
   ]
  },
  {
   "cell_type": "code",
   "execution_count": 3,
   "metadata": {},
   "outputs": [],
   "source": [
    "\n",
    "# rss_feed_url_latest = \"https://moxie.foxnews.com/google-publisher/latest.xml\"\n",
    "rss_feeds = [\"https://moxie.foxnews.com/google-publisher/politics.xml\", \n",
    "             \"https://moxie.foxnews.com/google-publisher/world.xml\",\n",
    "            \"https://moxie.foxnews.com/google-publisher/opinion.xml\"]\n",
    "\n",
    "all_snapshot_urls = []\n",
    "for rss_feed in rss_feeds:\n",
    "    cdx_api = WaybackMachineCDXServerAPI(rss_feed)\n",
    "    snapshots = cdx_api.snapshots()\n",
    "    snapshots = list(snapshots)\n",
    "    feed_urls = []\n",
    "    for snapshot in snapshots:\n",
    "        feed_urls.append(snapshot.archive_url)\n",
    "    all_snapshot_urls.extend(feed_urls)"
   ]
  },
  {
   "cell_type": "code",
   "execution_count": 5,
   "metadata": {},
   "outputs": [
    {
     "ename": "ExpatError",
     "evalue": "mismatched tag: line 16, column 2",
     "output_type": "error",
     "traceback": [
      "\u001b[0;31m---------------------------------------------------------------------------\u001b[0m",
      "\u001b[0;31mExpatError\u001b[0m                                Traceback (most recent call last)",
      "Cell \u001b[0;32mIn[5], line 14\u001b[0m\n\u001b[1;32m     12\u001b[0m     \u001b[38;5;28;01mcontinue\u001b[39;00m \n\u001b[1;32m     13\u001b[0m rss_feed \u001b[38;5;241m=\u001b[39m response\u001b[38;5;241m.\u001b[39mtext\n\u001b[0;32m---> 14\u001b[0m rss_dict \u001b[38;5;241m=\u001b[39m \u001b[43mxmltodict\u001b[49m\u001b[38;5;241;43m.\u001b[39;49m\u001b[43mparse\u001b[49m\u001b[43m(\u001b[49m\u001b[43mrss_feed\u001b[49m\u001b[43m)\u001b[49m\n\u001b[1;32m     15\u001b[0m years\u001b[38;5;241m.\u001b[39mappend(rss_dict[\u001b[38;5;124m'\u001b[39m\u001b[38;5;124mrss\u001b[39m\u001b[38;5;124m'\u001b[39m][\u001b[38;5;124m'\u001b[39m\u001b[38;5;124mchannel\u001b[39m\u001b[38;5;124m'\u001b[39m][\u001b[38;5;124m'\u001b[39m\u001b[38;5;124mpubDate\u001b[39m\u001b[38;5;124m'\u001b[39m])\n\u001b[1;32m     16\u001b[0m total_articles \u001b[38;5;241m+\u001b[39m\u001b[38;5;241m=\u001b[39m \u001b[38;5;28mlen\u001b[39m(rss_dict[\u001b[38;5;124m'\u001b[39m\u001b[38;5;124mrss\u001b[39m\u001b[38;5;124m'\u001b[39m][\u001b[38;5;124m'\u001b[39m\u001b[38;5;124mchannel\u001b[39m\u001b[38;5;124m'\u001b[39m][\u001b[38;5;124m'\u001b[39m\u001b[38;5;124mitem\u001b[39m\u001b[38;5;124m'\u001b[39m])\n",
      "File \u001b[0;32m~/Library/Python/3.9/lib/python/site-packages/xmltodict.py:359\u001b[0m, in \u001b[0;36mparse\u001b[0;34m(xml_input, encoding, expat, process_namespaces, namespace_separator, disable_entities, process_comments, **kwargs)\u001b[0m\n\u001b[1;32m    357\u001b[0m     parser\u001b[38;5;241m.\u001b[39mParse(\u001b[38;5;124mb\u001b[39m\u001b[38;5;124m'\u001b[39m\u001b[38;5;124m'\u001b[39m, \u001b[38;5;28;01mTrue\u001b[39;00m)\n\u001b[1;32m    358\u001b[0m \u001b[38;5;28;01melse\u001b[39;00m:\n\u001b[0;32m--> 359\u001b[0m     \u001b[43mparser\u001b[49m\u001b[38;5;241;43m.\u001b[39;49m\u001b[43mParse\u001b[49m\u001b[43m(\u001b[49m\u001b[43mxml_input\u001b[49m\u001b[43m,\u001b[49m\u001b[43m \u001b[49m\u001b[38;5;28;43;01mTrue\u001b[39;49;00m\u001b[43m)\u001b[49m\n\u001b[1;32m    360\u001b[0m \u001b[38;5;28;01mreturn\u001b[39;00m handler\u001b[38;5;241m.\u001b[39mitem\n",
      "\u001b[0;31mExpatError\u001b[0m: mismatched tag: line 16, column 2"
     ]
    }
   ],
   "source": [
    "delay = 20      \n",
    "total_articles = 0\n",
    "years = []\n",
    "responses = []\n",
    "for url in all_snapshot_urls:\n",
    "    try:\n",
    "        time.sleep(delay)\n",
    "        response = requests.get(url, timeout=10)\n",
    "        \n",
    "        rss_feed = response.text\n",
    "        rss_dict = xmltodict.parse(rss_feed)\n",
    "        years.append(rss_dict['rss']['channel']['pubDate'])\n",
    "        total_articles += len(rss_dict['rss']['channel']['item'])\n",
    "        responses.append(rss_dict)\n",
    "    except Exception as e:\n",
    "        print(f\"Error: {e}\" )\n",
    "        continue "
   ]
  },
  {
   "cell_type": "code",
   "execution_count": 44,
   "metadata": {},
   "outputs": [
    {
     "name": "stdout",
     "output_type": "stream",
     "text": [
      "<class 'dict'>\n",
      "dict_keys(['rss'])\n",
      "dict_keys(['@xmlns:media', '@xmlns:content', '@xmlns:dc', '@xmlns:atom', '@version', 'channel'])\n",
      "dict_keys(['title', 'link', 'description', 'copyright', 'language', 'pubDate', 'image', 'atom:link', 'item'])\n",
      "Wed, 27 Jul 2022 03:32:31 GMT\n",
      "dict_keys(['guid', 'title', 'description', 'content:encoded', 'media:content', 'category', 'pubDate'])\n",
      "Democrats have 'completely destroyed' US in every way 'by every metric possible': Lara Trump\n",
      "10\n"
     ]
    }
   ],
   "source": [
    "print(type(rss_dict))\n",
    "print(rss_dict.keys())\n",
    "print(rss_dict['rss'].keys())\n",
    "print(rss_dict['rss']['channel'].keys())\n",
    "print(rss_dict['rss']['channel']['pubDate'])\n",
    "print(rss_dict['rss']['channel']['item'][0].keys())\n",
    "print(rss_dict['rss']['channel']['item'][0]['title']) # needed for article title\n",
    "print(len(rss_dict['rss']['channel']['item']))\n"
   ]
  },
  {
   "cell_type": "code",
   "execution_count": 50,
   "metadata": {},
   "outputs": [
    {
     "name": "stdout",
     "output_type": "stream",
     "text": [
      "7549\n",
      "Error: HTTPSConnectionPool(host='web.archive.org', port=443): Read timed out. (read timeout=10)\n",
      "Error: HTTPSConnectionPool(host='web.archive.org', port=443): Max retries exceeded with url: /web/20220815171735/https://moxie.foxnews.com/google-publisher/latest.xml (Caused by NewConnectionError('<urllib3.connection.HTTPSConnection object at 0x115a87460>: Failed to establish a new connection: [Errno 61] Connection refused'))\n",
      "Error: HTTPSConnectionPool(host='web.archive.org', port=443): Max retries exceeded with url: /web/20220816165616/https://moxie.foxnews.com/google-publisher/latest.xml (Caused by NewConnectionError('<urllib3.connection.HTTPSConnection object at 0x115969520>: Failed to establish a new connection: [Errno 61] Connection refused'))\n",
      "Error: HTTPSConnectionPool(host='web.archive.org', port=443): Max retries exceeded with url: /web/20220817172126/https://moxie.foxnews.com/google-publisher/latest.xml (Caused by NewConnectionError('<urllib3.connection.HTTPSConnection object at 0x115a83550>: Failed to establish a new connection: [Errno 61] Connection refused'))\n",
      "Error: HTTPSConnectionPool(host='web.archive.org', port=443): Max retries exceeded with url: /web/20220818173346/https://moxie.foxnews.com/google-publisher/latest.xml (Caused by NewConnectionError('<urllib3.connection.HTTPSConnection object at 0x115a87310>: Failed to establish a new connection: [Errno 61] Connection refused'))\n",
      "Error: HTTPSConnectionPool(host='web.archive.org', port=443): Max retries exceeded with url: /web/20220819183418/https://moxie.foxnews.com/google-publisher/latest.xml (Caused by NewConnectionError('<urllib3.connection.HTTPSConnection object at 0x1077074c0>: Failed to establish a new connection: [Errno 61] Connection refused'))\n",
      "Error: HTTPSConnectionPool(host='web.archive.org', port=443): Max retries exceeded with url: /web/20220820212929/https://moxie.foxnews.com/google-publisher/latest.xml (Caused by NewConnectionError('<urllib3.connection.HTTPSConnection object at 0x115a8f2b0>: Failed to establish a new connection: [Errno 61] Connection refused'))\n",
      "Error: HTTPSConnectionPool(host='web.archive.org', port=443): Max retries exceeded with url: /web/20220821093046/https://moxie.foxnews.com/google-publisher/latest.xml (Caused by NewConnectionError('<urllib3.connection.HTTPSConnection object at 0x115aeb400>: Failed to establish a new connection: [Errno 61] Connection refused'))\n",
      "Error: HTTPSConnectionPool(host='web.archive.org', port=443): Max retries exceeded with url: /web/20220823083410/https://moxie.foxnews.com/google-publisher/latest.xml (Caused by NewConnectionError('<urllib3.connection.HTTPSConnection object at 0x115aebcd0>: Failed to establish a new connection: [Errno 61] Connection refused'))\n",
      "Error: HTTPSConnectionPool(host='web.archive.org', port=443): Max retries exceeded with url: /web/20220824084004/https://moxie.foxnews.com/google-publisher/latest.xml (Caused by NewConnectionError('<urllib3.connection.HTTPSConnection object at 0x115aeba90>: Failed to establish a new connection: [Errno 61] Connection refused'))\n",
      "Error: HTTPSConnectionPool(host='web.archive.org', port=443): Max retries exceeded with url: /web/20220826023134/https://moxie.foxnews.com/google-publisher/latest.xml (Caused by NewConnectionError('<urllib3.connection.HTTPSConnection object at 0x1077db9a0>: Failed to establish a new connection: [Errno 61] Connection refused'))\n",
      "Error: HTTPSConnectionPool(host='web.archive.org', port=443): Max retries exceeded with url: /web/20220827031545/https://moxie.foxnews.com/google-publisher/latest.xml (Caused by NewConnectionError('<urllib3.connection.HTTPSConnection object at 0x115a87670>: Failed to establish a new connection: [Errno 61] Connection refused'))\n",
      "Error: HTTPSConnectionPool(host='web.archive.org', port=443): Max retries exceeded with url: /web/20220828030044/https://moxie.foxnews.com/google-publisher/latest.xml (Caused by NewConnectionError('<urllib3.connection.HTTPSConnection object at 0x115a833d0>: Failed to establish a new connection: [Errno 61] Connection refused'))\n",
      "Error: HTTPSConnectionPool(host='web.archive.org', port=443): Max retries exceeded with url: /web/20220830043607/https://moxie.foxnews.com/google-publisher/latest.xml (Caused by NewConnectionError('<urllib3.connection.HTTPSConnection object at 0x115a81e20>: Failed to establish a new connection: [Errno 61] Connection refused'))\n",
      "Error: HTTPSConnectionPool(host='web.archive.org', port=443): Max retries exceeded with url: /web/20220831002952/https://moxie.foxnews.com/google-publisher/latest.xml (Caused by NewConnectionError('<urllib3.connection.HTTPSConnection object at 0x115969520>: Failed to establish a new connection: [Errno 61] Connection refused'))\n",
      "Error: HTTPSConnectionPool(host='web.archive.org', port=443): Max retries exceeded with url: /web/20220901040926/https://moxie.foxnews.com/google-publisher/latest.xml (Caused by NewConnectionError('<urllib3.connection.HTTPSConnection object at 0x115a81d60>: Failed to establish a new connection: [Errno 61] Connection refused'))\n",
      "Error: HTTPSConnectionPool(host='web.archive.org', port=443): Max retries exceeded with url: /web/20220902050040/https://moxie.foxnews.com/google-publisher/latest.xml (Caused by NewConnectionError('<urllib3.connection.HTTPSConnection object at 0x115a83490>: Failed to establish a new connection: [Errno 61] Connection refused'))\n",
      "Error: HTTPSConnectionPool(host='web.archive.org', port=443): Max retries exceeded with url: /web/20220903044715/https://moxie.foxnews.com/google-publisher/latest.xml (Caused by NewConnectionError('<urllib3.connection.HTTPSConnection object at 0x115a87760>: Failed to establish a new connection: [Errno 61] Connection refused'))\n",
      "Error: HTTPSConnectionPool(host='web.archive.org', port=443): Max retries exceeded with url: /web/20220903090804/https://moxie.foxnews.com/google-publisher/latest.xml (Caused by NewConnectionError('<urllib3.connection.HTTPSConnection object at 0x107780ee0>: Failed to establish a new connection: [Errno 61] Connection refused'))\n",
      "Error: HTTPSConnectionPool(host='web.archive.org', port=443): Max retries exceeded with url: /web/20220904052158/https://moxie.foxnews.com/google-publisher/latest.xml (Caused by NewConnectionError('<urllib3.connection.HTTPSConnection object at 0x11595ffd0>: Failed to establish a new connection: [Errno 61] Connection refused'))\n",
      "Error: HTTPSConnectionPool(host='web.archive.org', port=443): Max retries exceeded with url: /web/20220905053328/https://moxie.foxnews.com/google-publisher/latest.xml (Caused by NewConnectionError('<urllib3.connection.HTTPSConnection object at 0x115a642e0>: Failed to establish a new connection: [Errno 61] Connection refused'))\n",
      "Error: HTTPSConnectionPool(host='web.archive.org', port=443): Max retries exceeded with url: /web/20220906125403/https://moxie.foxnews.com/google-publisher/latest.xml (Caused by NewConnectionError('<urllib3.connection.HTTPSConnection object at 0x11595fa60>: Failed to establish a new connection: [Errno 61] Connection refused'))\n",
      "Error: HTTPSConnectionPool(host='web.archive.org', port=443): Max retries exceeded with url: /web/20220907131709/https://moxie.foxnews.com/google-publisher/latest.xml (Caused by NewConnectionError('<urllib3.connection.HTTPSConnection object at 0x107814a60>: Failed to establish a new connection: [Errno 61] Connection refused'))\n",
      "Error: HTTPSConnectionPool(host='web.archive.org', port=443): Max retries exceeded with url: /web/20220909134440/https://moxie.foxnews.com/google-publisher/latest.xml (Caused by NewConnectionError('<urllib3.connection.HTTPSConnection object at 0x115a8f250>: Failed to establish a new connection: [Errno 61] Connection refused'))\n",
      "Error: HTTPSConnectionPool(host='web.archive.org', port=443): Max retries exceeded with url: /web/20220910122514/https://moxie.foxnews.com/google-publisher/latest.xml (Caused by NewConnectionError('<urllib3.connection.HTTPSConnection object at 0x115a837f0>: Failed to establish a new connection: [Errno 61] Connection refused'))\n",
      "Error: HTTPSConnectionPool(host='web.archive.org', port=443): Max retries exceeded with url: /web/20220911145147/https://moxie.foxnews.com/google-publisher/latest.xml (Caused by NewConnectionError('<urllib3.connection.HTTPSConnection object at 0x115969700>: Failed to establish a new connection: [Errno 61] Connection refused'))\n",
      "Error: HTTPSConnectionPool(host='web.archive.org', port=443): Max retries exceeded with url: /web/20220912115150/https://moxie.foxnews.com/google-publisher/latest.xml (Caused by NewConnectionError('<urllib3.connection.HTTPSConnection object at 0x1159d0850>: Failed to establish a new connection: [Errno 61] Connection refused'))\n",
      "Error: HTTPSConnectionPool(host='web.archive.org', port=443): Max retries exceeded with url: /web/20220912154237/https://moxie.foxnews.com/google-publisher/latest.xml (Caused by NewConnectionError('<urllib3.connection.HTTPSConnection object at 0x115a81fa0>: Failed to establish a new connection: [Errno 61] Connection refused'))\n",
      "Error: HTTPSConnectionPool(host='web.archive.org', port=443): Max retries exceeded with url: /web/20220913150754/https://moxie.foxnews.com/google-publisher/latest.xml (Caused by NewConnectionError('<urllib3.connection.HTTPSConnection object at 0x115969070>: Failed to establish a new connection: [Errno 61] Connection refused'))\n",
      "Error: HTTPSConnectionPool(host='web.archive.org', port=443): Max retries exceeded with url: /web/20220914153733/https://moxie.foxnews.com/google-publisher/latest.xml (Caused by NewConnectionError('<urllib3.connection.HTTPSConnection object at 0x115a8f5e0>: Failed to establish a new connection: [Errno 61] Connection refused'))\n",
      "Error: HTTPSConnectionPool(host='web.archive.org', port=443): Max retries exceeded with url: /web/20220915200637/https://moxie.foxnews.com/google-publisher/latest.xml (Caused by NewConnectionError('<urllib3.connection.HTTPSConnection object at 0x115a87310>: Failed to establish a new connection: [Errno 61] Connection refused'))\n",
      "Error: HTTPSConnectionPool(host='web.archive.org', port=443): Max retries exceeded with url: /web/20220916193405/https://moxie.foxnews.com/google-publisher/latest.xml (Caused by NewConnectionError('<urllib3.connection.HTTPSConnection object at 0x1078d05e0>: Failed to establish a new connection: [Errno 61] Connection refused'))\n",
      "Error: HTTPSConnectionPool(host='web.archive.org', port=443): Max retries exceeded with url: /web/20220917182620/https://moxie.foxnews.com/google-publisher/latest.xml (Caused by NewConnectionError('<urllib3.connection.HTTPSConnection object at 0x11595fc40>: Failed to establish a new connection: [Errno 61] Connection refused'))\n",
      "Error: HTTPSConnectionPool(host='web.archive.org', port=443): Max retries exceeded with url: /web/20220918181830/https://moxie.foxnews.com/google-publisher/latest.xml (Caused by NewConnectionError('<urllib3.connection.HTTPSConnection object at 0x11595f4c0>: Failed to establish a new connection: [Errno 61] Connection refused'))\n",
      "Error: HTTPSConnectionPool(host='web.archive.org', port=443): Max retries exceeded with url: /web/20220919192303/https://moxie.foxnews.com/google-publisher/latest.xml (Caused by NewConnectionError('<urllib3.connection.HTTPSConnection object at 0x107707490>: Failed to establish a new connection: [Errno 61] Connection refused'))\n",
      "Error: HTTPSConnectionPool(host='web.archive.org', port=443): Max retries exceeded with url: /web/20220920200806/https://moxie.foxnews.com/google-publisher/latest.xml (Caused by NewConnectionError('<urllib3.connection.HTTPSConnection object at 0x115a8f250>: Failed to establish a new connection: [Errno 61] Connection refused'))\n",
      "Error: HTTPSConnectionPool(host='web.archive.org', port=443): Max retries exceeded with url: /web/20220921205545/https://moxie.foxnews.com/google-publisher/latest.xml (Caused by NewConnectionError('<urllib3.connection.HTTPSConnection object at 0x115a83a90>: Failed to establish a new connection: [Errno 61] Connection refused'))\n",
      "Error: HTTPSConnectionPool(host='web.archive.org', port=443): Max retries exceeded with url: /web/20220922210804/https://moxie.foxnews.com/google-publisher/latest.xml (Caused by NewConnectionError('<urllib3.connection.HTTPSConnection object at 0x115969790>: Failed to establish a new connection: [Errno 61] Connection refused'))\n",
      "Error: HTTPSConnectionPool(host='web.archive.org', port=443): Max retries exceeded with url: /web/20220924013331/https://moxie.foxnews.com/google-publisher/latest.xml (Caused by NewConnectionError('<urllib3.connection.HTTPSConnection object at 0x115a64430>: Failed to establish a new connection: [Errno 61] Connection refused'))\n",
      "Error: HTTPSConnectionPool(host='web.archive.org', port=443): Max retries exceeded with url: /web/20220924224343/https://moxie.foxnews.com/google-publisher/latest.xml (Caused by NewConnectionError('<urllib3.connection.HTTPSConnection object at 0x115a83d00>: Failed to establish a new connection: [Errno 61] Connection refused'))\n",
      "Error: HTTPSConnectionPool(host='web.archive.org', port=443): Max retries exceeded with url: /web/20220926022444/https://moxie.foxnews.com/google-publisher/latest.xml (Caused by NewConnectionError('<urllib3.connection.HTTPSConnection object at 0x115a8f4f0>: Failed to establish a new connection: [Errno 61] Connection refused'))\n",
      "Error: HTTPSConnectionPool(host='web.archive.org', port=443): Max retries exceeded with url: /web/20220927035113/https://moxie.foxnews.com/google-publisher/latest.xml (Caused by NewConnectionError('<urllib3.connection.HTTPSConnection object at 0x115a87880>: Failed to establish a new connection: [Errno 61] Connection refused'))\n",
      "Error: HTTPSConnectionPool(host='web.archive.org', port=443): Max retries exceeded with url: /web/20220928042144/https://moxie.foxnews.com/google-publisher/latest.xml (Caused by NewConnectionError('<urllib3.connection.HTTPSConnection object at 0x11595f1f0>: Failed to establish a new connection: [Errno 61] Connection refused'))\n",
      "Error: HTTPSConnectionPool(host='web.archive.org', port=443): Max retries exceeded with url: /web/20220929013714/https://moxie.foxnews.com/google-publisher/latest.xml (Caused by NewConnectionError('<urllib3.connection.HTTPSConnection object at 0x115a64490>: Failed to establish a new connection: [Errno 61] Connection refused'))\n",
      "Error: HTTPSConnectionPool(host='web.archive.org', port=443): Max retries exceeded with url: /web/20220930072640/https://moxie.foxnews.com/google-publisher/latest.xml (Caused by NewConnectionError('<urllib3.connection.HTTPSConnection object at 0x115a64bb0>: Failed to establish a new connection: [Errno 61] Connection refused'))\n",
      "Error: HTTPSConnectionPool(host='web.archive.org', port=443): Max retries exceeded with url: /web/20221001035647/https://moxie.foxnews.com/google-publisher/latest.xml (Caused by NewConnectionError('<urllib3.connection.HTTPSConnection object at 0x1077db9a0>: Failed to establish a new connection: [Errno 61] Connection refused'))\n",
      "Error: HTTPSConnectionPool(host='web.archive.org', port=443): Max retries exceeded with url: /web/20221002063709/https://moxie.foxnews.com/google-publisher/latest.xml (Caused by NewConnectionError('<urllib3.connection.HTTPSConnection object at 0x115a87eb0>: Failed to establish a new connection: [Errno 61] Connection refused'))\n",
      "Error: HTTPSConnectionPool(host='web.archive.org', port=443): Max retries exceeded with url: /web/20221003133942/https://moxie.foxnews.com/google-publisher/latest.xml (Caused by NewConnectionError('<urllib3.connection.HTTPSConnection object at 0x115a8f4c0>: Failed to establish a new connection: [Errno 61] Connection refused'))\n",
      "Error: HTTPSConnectionPool(host='web.archive.org', port=443): Max retries exceeded with url: /web/20221003161235/https://moxie.foxnews.com/google-publisher/latest.xml (Caused by NewConnectionError('<urllib3.connection.HTTPSConnection object at 0x115a88340>: Failed to establish a new connection: [Errno 61] Connection refused'))\n",
      "Error: HTTPSConnectionPool(host='web.archive.org', port=443): Max retries exceeded with url: /web/20221004083850/https://moxie.foxnews.com/google-publisher/latest.xml (Caused by NewConnectionError('<urllib3.connection.HTTPSConnection object at 0x115a64400>: Failed to establish a new connection: [Errno 61] Connection refused'))\n",
      "Error: HTTPSConnectionPool(host='web.archive.org', port=443): Max retries exceeded with url: /web/20221004091623/https://moxie.foxnews.com/google-publisher/latest.xml (Caused by NewConnectionError('<urllib3.connection.HTTPSConnection object at 0x115a64c40>: Failed to establish a new connection: [Errno 61] Connection refused'))\n",
      "Error: HTTPSConnectionPool(host='web.archive.org', port=443): Max retries exceeded with url: /web/20221004105442/https://moxie.foxnews.com/google-publisher/latest.xml (Caused by NewConnectionError('<urllib3.connection.HTTPSConnection object at 0x115a88fd0>: Failed to establish a new connection: [Errno 61] Connection refused'))\n",
      "Error: HTTPSConnectionPool(host='web.archive.org', port=443): Max retries exceeded with url: /web/20221004144634/https://moxie.foxnews.com/google-publisher/latest.xml (Caused by NewConnectionError('<urllib3.connection.HTTPSConnection object at 0x115a8f5e0>: Failed to establish a new connection: [Errno 61] Connection refused'))\n",
      "Error: HTTPSConnectionPool(host='web.archive.org', port=443): Max retries exceeded with url: /web/20221007153756/https://moxie.foxnews.com/google-publisher/latest.xml (Caused by NewConnectionError('<urllib3.connection.HTTPSConnection object at 0x115a87ee0>: Failed to establish a new connection: [Errno 61] Connection refused'))\n",
      "Error: HTTPSConnectionPool(host='web.archive.org', port=443): Max retries exceeded with url: /web/20221007170308/https://moxie.foxnews.com/google-publisher/latest.xml (Caused by NewConnectionError('<urllib3.connection.HTTPSConnection object at 0x115906280>: Failed to establish a new connection: [Errno 61] Connection refused'))\n",
      "Error: HTTPSConnectionPool(host='web.archive.org', port=443): Max retries exceeded with url: /web/20221007180145/https://moxie.foxnews.com/google-publisher/latest.xml (Caused by NewConnectionError('<urllib3.connection.HTTPSConnection object at 0x115af84f0>: Failed to establish a new connection: [Errno 61] Connection refused'))\n",
      "Error: HTTPSConnectionPool(host='web.archive.org', port=443): Max retries exceeded with url: /web/20221007200938/https://moxie.foxnews.com/google-publisher/latest.xml (Caused by NewConnectionError('<urllib3.connection.HTTPSConnection object at 0x11595f970>: Failed to establish a new connection: [Errno 61] Connection refused'))\n",
      "Error: HTTPSConnectionPool(host='web.archive.org', port=443): Max retries exceeded with url: /web/20221007222031/https://moxie.foxnews.com/google-publisher/latest.xml (Caused by NewConnectionError('<urllib3.connection.HTTPSConnection object at 0x107708ee0>: Failed to establish a new connection: [Errno 61] Connection refused'))\n",
      "Error: HTTPSConnectionPool(host='web.archive.org', port=443): Max retries exceeded with url: /web/20221008051039/https://moxie.foxnews.com/google-publisher/latest.xml (Caused by NewConnectionError('<urllib3.connection.HTTPSConnection object at 0x115a8f610>: Failed to establish a new connection: [Errno 61] Connection refused'))\n",
      "Error: HTTPSConnectionPool(host='web.archive.org', port=443): Max retries exceeded with url: /web/20221008160148/https://moxie.foxnews.com/google-publisher/latest.xml (Caused by NewConnectionError('<urllib3.connection.HTTPSConnection object at 0x115a83b80>: Failed to establish a new connection: [Errno 61] Connection refused'))\n",
      "Error: HTTPSConnectionPool(host='web.archive.org', port=443): Max retries exceeded with url: /web/20221008173832/https://moxie.foxnews.com/google-publisher/latest.xml (Caused by NewConnectionError('<urllib3.connection.HTTPSConnection object at 0x115969220>: Failed to establish a new connection: [Errno 61] Connection refused'))\n",
      "Error: HTTPSConnectionPool(host='web.archive.org', port=443): Max retries exceeded with url: /web/20221009161947/https://moxie.foxnews.com/google-publisher/latest.xml (Caused by NewConnectionError('<urllib3.connection.HTTPSConnection object at 0x115a64550>: Failed to establish a new connection: [Errno 61] Connection refused'))\n",
      "Error: HTTPSConnectionPool(host='web.archive.org', port=443): Max retries exceeded with url: /web/20221009173930/https://moxie.foxnews.com/google-publisher/latest.xml (Caused by NewConnectionError('<urllib3.connection.HTTPSConnection object at 0x115a64550>: Failed to establish a new connection: [Errno 61] Connection refused'))\n",
      "Error: HTTPSConnectionPool(host='web.archive.org', port=443): Max retries exceeded with url: /web/20221009180502/https://moxie.foxnews.com/google-publisher/latest.xml (Caused by NewConnectionError('<urllib3.connection.HTTPSConnection object at 0x1159692b0>: Failed to establish a new connection: [Errno 61] Connection refused'))\n",
      "Error: HTTPSConnectionPool(host='web.archive.org', port=443): Max retries exceeded with url: /web/20221009194902/https://moxie.foxnews.com/google-publisher/latest.xml (Caused by NewConnectionError('<urllib3.connection.HTTPSConnection object at 0x115a83c40>: Failed to establish a new connection: [Errno 61] Connection refused'))\n",
      "Error: HTTPSConnectionPool(host='web.archive.org', port=443): Max retries exceeded with url: /web/20221010163909/https://moxie.foxnews.com/google-publisher/latest.xml (Caused by NewConnectionError('<urllib3.connection.HTTPSConnection object at 0x107863f40>: Failed to establish a new connection: [Errno 61] Connection refused'))\n",
      "Error: HTTPSConnectionPool(host='web.archive.org', port=443): Max retries exceeded with url: /web/20221010185239/https://moxie.foxnews.com/google-publisher/latest.xml (Caused by NewConnectionError('<urllib3.connection.HTTPSConnection object at 0x1077db9a0>: Failed to establish a new connection: [Errno 61] Connection refused'))\n",
      "Error: HTTPSConnectionPool(host='web.archive.org', port=443): Max retries exceeded with url: /web/20221010195915/https://moxie.foxnews.com/google-publisher/latest.xml (Caused by NewConnectionError('<urllib3.connection.HTTPSConnection object at 0x11595f340>: Failed to establish a new connection: [Errno 61] Connection refused'))\n",
      "Error: HTTPSConnectionPool(host='web.archive.org', port=443): Max retries exceeded with url: /web/20221011092035/https://moxie.foxnews.com/google-publisher/latest.xml (Caused by NewConnectionError('<urllib3.connection.HTTPSConnection object at 0x11595f940>: Failed to establish a new connection: [Errno 61] Connection refused'))\n",
      "Error: HTTPSConnectionPool(host='web.archive.org', port=443): Max retries exceeded with url: /web/20221011113833/https://moxie.foxnews.com/google-publisher/latest.xml (Caused by NewConnectionError('<urllib3.connection.HTTPSConnection object at 0x107708610>: Failed to establish a new connection: [Errno 61] Connection refused'))\n",
      "Error: HTTPSConnectionPool(host='web.archive.org', port=443): Max retries exceeded with url: /web/20221011171631/https://moxie.foxnews.com/google-publisher/latest.xml (Caused by NewConnectionError('<urllib3.connection.HTTPSConnection object at 0x115a83280>: Failed to establish a new connection: [Errno 61] Connection refused'))\n",
      "Error: HTTPSConnectionPool(host='web.archive.org', port=443): Max retries exceeded with url: /web/20221011183612/https://moxie.foxnews.com/google-publisher/latest.xml (Caused by NewConnectionError('<urllib3.connection.HTTPSConnection object at 0x115969340>: Failed to establish a new connection: [Errno 61] Connection refused'))\n",
      "Error: HTTPSConnectionPool(host='web.archive.org', port=443): Max retries exceeded with url: /web/20221011200442/https://moxie.foxnews.com/google-publisher/latest.xml (Caused by NewConnectionError('<urllib3.connection.HTTPSConnection object at 0x115a8f370>: Failed to establish a new connection: [Errno 61] Connection refused'))\n",
      "Error: HTTPSConnectionPool(host='web.archive.org', port=443): Max retries exceeded with url: /web/20221011233240/https://moxie.foxnews.com/google-publisher/latest.xml (Caused by NewConnectionError('<urllib3.connection.HTTPSConnection object at 0x115a64730>: Failed to establish a new connection: [Errno 61] Connection refused'))\n",
      "Error: HTTPSConnectionPool(host='web.archive.org', port=443): Max retries exceeded with url: /web/20221012173737/https://moxie.foxnews.com/google-publisher/latest.xml (Caused by NewConnectionError('<urllib3.connection.HTTPSConnection object at 0x115a64d00>: Failed to establish a new connection: [Errno 61] Connection refused'))\n",
      "Error: HTTPSConnectionPool(host='web.archive.org', port=443): Max retries exceeded with url: /web/20221012190227/https://moxie.foxnews.com/google-publisher/latest.xml (Caused by NewConnectionError('<urllib3.connection.HTTPSConnection object at 0x115a8f160>: Failed to establish a new connection: [Errno 61] Connection refused'))\n",
      "Error: HTTPSConnectionPool(host='web.archive.org', port=443): Max retries exceeded with url: /web/20221012190308/https://moxie.foxnews.com/google-publisher/latest.xml (Caused by NewConnectionError('<urllib3.connection.HTTPSConnection object at 0x1159694f0>: Failed to establish a new connection: [Errno 61] Connection refused'))\n",
      "Error: HTTPSConnectionPool(host='web.archive.org', port=443): Max retries exceeded with url: /web/20221012220519/https://moxie.foxnews.com/google-publisher/latest.xml (Caused by NewConnectionError('<urllib3.connection.HTTPSConnection object at 0x107863220>: Failed to establish a new connection: [Errno 61] Connection refused'))\n",
      "Error: HTTPSConnectionPool(host='web.archive.org', port=443): Max retries exceeded with url: /web/20221013074809/https://moxie.foxnews.com/google-publisher/latest.xml (Caused by NewConnectionError('<urllib3.connection.HTTPSConnection object at 0x107780ee0>: Failed to establish a new connection: [Errno 61] Connection refused'))\n",
      "Error: HTTPSConnectionPool(host='web.archive.org', port=443): Max retries exceeded with url: /web/20221013103019/https://moxie.foxnews.com/google-publisher/latest.xml (Caused by NewConnectionError('<urllib3.connection.HTTPSConnection object at 0x11595fd60>: Failed to establish a new connection: [Errno 61] Connection refused'))\n",
      "Error: HTTPSConnectionPool(host='web.archive.org', port=443): Max retries exceeded with url: /web/20221013125655/https://moxie.foxnews.com/google-publisher/latest.xml (Caused by NewConnectionError('<urllib3.connection.HTTPSConnection object at 0x107780fa0>: Failed to establish a new connection: [Errno 61] Connection refused'))\n"
     ]
    }
   ],
   "source": [
    "sample_rss_feeds = 100\n",
    "print(len(snapshots))\n",
    "scrapes = min([sample_rss_feeds, len(snapshots)])\n",
    "total_articles = 0\n",
    "years = []\n",
    "for i in range(scrapes):\n",
    "    snapshot = snapshots[i]\n",
    "    try:\n",
    "        response = requests.get(snapshot.archive_url, timeout=10)\n",
    "    except Exception as e:\n",
    "        print(f\"Error: {e}\" )\n",
    "        continue \n",
    "    rss_feed = response.text\n",
    "    rss_dict = xmltodict.parse(rss_feed)\n",
    "    years.append(rss_dict['rss']['channel']['pubDate'])\n",
    "    total_articles += len(rss_dict['rss']['channel']['item'])\n"
   ]
  },
  {
   "cell_type": "code",
   "execution_count": 51,
   "metadata": {},
   "outputs": [
    {
     "name": "stdout",
     "output_type": "stream",
     "text": [
      "190\n",
      "['Wed, 27 Jul 2022 03:32:31 GMT', 'Thu, 28 Jul 2022 03:35:49 GMT', 'Fri, 29 Jul 2022 04:51:43 GMT', 'Sat, 30 Jul 2022 06:00:45 GMT', 'Mon, 01 Aug 2022 07:45:07 GMT', 'Tue, 02 Aug 2022 09:00:32 GMT', 'Wed, 03 Aug 2022 07:39:52 GMT', 'Wed, 03 Aug 2022 10:39:25 GMT', 'Thu, 04 Aug 2022 11:00:15 GMT', 'Fri, 05 Aug 2022 10:58:24 GMT', 'Sat, 06 Aug 2022 12:00:50 GMT', 'Sun, 07 Aug 2022 09:45:30 GMT', 'Mon, 08 Aug 2022 10:51:59 GMT', 'Tue, 09 Aug 2022 10:47:20 GMT', 'Wed, 10 Aug 2022 06:00:45 GMT', 'Wed, 10 Aug 2022 11:20:45 GMT', 'Fri, 12 Aug 2022 14:28:21 GMT', 'Sat, 13 Aug 2022 14:36:06 GMT', 'Sun, 14 Aug 2022 14:19:31 GMT']\n"
     ]
    }
   ],
   "source": [
    "print(total_articles)\n",
    "print(years)"
   ]
  }
 ],
 "metadata": {
  "kernelspec": {
   "display_name": "Python 3",
   "language": "python",
   "name": "python3"
  },
  "language_info": {
   "codemirror_mode": {
    "name": "ipython",
    "version": 3
   },
   "file_extension": ".py",
   "mimetype": "text/x-python",
   "name": "python",
   "nbconvert_exporter": "python",
   "pygments_lexer": "ipython3",
   "version": "3.9.6"
  }
 },
 "nbformat": 4,
 "nbformat_minor": 2
}

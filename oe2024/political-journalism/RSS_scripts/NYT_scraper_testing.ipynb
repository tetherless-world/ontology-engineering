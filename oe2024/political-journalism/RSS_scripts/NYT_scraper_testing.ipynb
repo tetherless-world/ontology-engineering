{
 "cells": [
  {
   "cell_type": "code",
   "execution_count": 8,
   "metadata": {},
   "outputs": [],
   "source": [
    "import requests\n",
    "import random\n",
    "from dotenv import load_dotenv\n",
    "import os\n",
    "import time\n",
    "import json\n"
   ]
  },
  {
   "cell_type": "code",
   "execution_count": 2,
   "metadata": {},
   "outputs": [],
   "source": [
    "load_dotenv(dotenv_path=\"api_keys.env\")\n",
    "api_key = os.getenv(\"API_KEY_NewYorkTimes\")\n",
    "url = f\"https://api.nytimes.com/svc/archive/v1/2020/10.json?api-key={api_key}\"\n",
    "\n",
    "response = requests.get(url)\n",
    "data = response.json()\n",
    "num_articles = data['response']['meta']['hits']"
   ]
  },
  {
   "cell_type": "code",
   "execution_count": 3,
   "metadata": {},
   "outputs": [
    {
     "data": {
      "text/plain": [
       "dict_keys(['abstract', 'web_url', 'snippet', 'lead_paragraph', 'source', 'multimedia', 'headline', 'keywords', 'pub_date', 'document_type', 'news_desk', 'section_name', 'subsection_name', 'byline', 'type_of_material', '_id', 'word_count', 'uri'])"
      ]
     },
     "execution_count": 3,
     "metadata": {},
     "output_type": "execute_result"
    }
   ],
   "source": [
    "data['response']['docs'][1].keys()"
   ]
  },
  {
   "cell_type": "code",
   "execution_count": 27,
   "metadata": {},
   "outputs": [
    {
     "name": "stdout",
     "output_type": "stream",
     "text": [
      "Ioannis Lagos was a leading member of the extreme-right and now-defunct Golden Dawn, which rose to political prominence in 2012 at the peak of the Greece’s financial crisis.\n",
      "[{'name': 'subject', 'value': 'Neo Nazi Groups', 'rank': 1, 'major': 'N'}, {'name': 'organizations', 'value': 'Golden Dawn (Greece)', 'rank': 2, 'major': 'N'}, {'name': 'organizations', 'value': 'European Parliament', 'rank': 3, 'major': 'N'}, {'name': 'glocations', 'value': 'Greece', 'rank': 4, 'major': 'N'}]\n",
      "Foreign\n",
      "article\n",
      "{'original': 'By Niki Kitsantonis', 'person': [{'firstname': 'Niki', 'middlename': None, 'lastname': 'Kitsantonis', 'qualifier': None, 'title': None, 'role': 'reported', 'organization': '', 'rank': 1}], 'organization': None}\n"
     ]
    }
   ],
   "source": [
    "'''Keys we need\n",
    "=> abstract: longer headline \n",
    "=> source: publisher name\n",
    "=> web_url: where to find the article\n",
    "=> keywords: translates into topics and areas\n",
    "=> pub date: for date of publication\n",
    "=> Document type: used for pre_filtering by if media is an article, video, etc\n",
    "=> news desk: Op ed,book review ===> needed to filter\\\n",
    "=> byline: gives us author'''\n",
    "i = 2040\n",
    "\n",
    "print(data['response']['docs'][i]['abstract'])\n",
    "print(data['response']['docs'][i]['keywords'])\n",
    "print(data['response']['docs'][i]['news_desk'])\n",
    "print(data['response']['docs'][i]['document_type'])\n",
    "print(data['response']['docs'][i]['byline'])"
   ]
  },
  {
   "cell_type": "code",
   "execution_count": 5,
   "metadata": {},
   "outputs": [
    {
     "name": "stdout",
     "output_type": "stream",
     "text": [
      "{'OpEd': 297, 'Sports': 261, 'Politics': 617, 'Business': 367, 'The Learning Network': 8, 'Games': 40, 'Summary': 49, 'Corrections': 29, 'NYTNow': 114, 'Styles': 120, 'Learning': 105, 'Culture': 303, 'Science': 137, 'Foreign': 457, 'Magazine': 54, 'Real Estate': 38, 'BookReview': 131, 'Climate': 40, 'Neediest': 5, '': 157, 'Metro': 139, 'Upshot': 26, 'Arts&Leisure': 43, 'Metropolitan': 27, 'Weekend': 104, 'National': 161, 'Well': 61, 'Dining': 89, 'Washington': 257, 'Podcasts': 34, 'TStyle': 25, 'RealEstate': 69, 'Parenting': 28, 'Obits': 116, 'NewsDesk': 23, 'Letters': 58, 'Express': 130, 'Gender': 11, 'Opinion': 24, 'Society': 44, 'New York': 9, 'Briefing': 9, 'Travel': 22, 'U.S.': 182, 'SundayBusiness': 35, 'Editorial': 37, 'Books': 23, 'Test': 1, 'Health': 4, 'AtHome': 32, 'Smarter Living': 12, 'Business Day': 1, 'SpecialSections': 34, 'Universal': 1, 'The Upshot': 7, 'Food': 3, 'Technology': 7, 'Burst': 2, 'Multimedia/Photos': 2, 'Arts': 5, 'Investigative': 7, 'Video': 2, 'Admin': 1, 'Style': 7, 'Insider': 1, 'Theater': 1, 'T Magazine': 6, 'NYTI': 1, 'World': 1, 'At Home': 1, 'Live': 1, 'Movies': 2}\n"
     ]
    }
   ],
   "source": [
    "\n",
    "outlets = {}\n",
    "for i in range(num_articles):\n",
    "    s = data['response']['docs'][i]['news_desk']\n",
    "    if s in outlets:\n",
    "        outlets[s] += 1\n",
    "    else:\n",
    "        outlets[s] = 1 \n",
    "\n",
    "print(outlets)"
   ]
  },
  {
   "cell_type": "code",
   "execution_count": 30,
   "metadata": {},
   "outputs": [
    {
     "name": "stdout",
     "output_type": "stream",
     "text": [
      "An error occurred for 2020-9: 429 Client Error: Too Many Requests for url: https://api.nytimes.com/svc/archive/v1/2020/9.json?api-key=P5T5Og2xMQan89LizfjxslF6t2oGJYSL\n",
      "An error occurred for 2020-10: 429 Client Error: Too Many Requests for url: https://api.nytimes.com/svc/archive/v1/2020/10.json?api-key=P5T5Og2xMQan89LizfjxslF6t2oGJYSL\n"
     ]
    },
    {
     "ename": "KeyboardInterrupt",
     "evalue": "",
     "output_type": "error",
     "traceback": [
      "\u001b[0;31m---------------------------------------------------------------------------\u001b[0m",
      "\u001b[0;31mKeyboardInterrupt\u001b[0m                         Traceback (most recent call last)",
      "Cell \u001b[0;32mIn[30], line 12\u001b[0m\n\u001b[1;32m     10\u001b[0m \u001b[38;5;28;01mfor\u001b[39;00m year \u001b[38;5;129;01min\u001b[39;00m years_to_scrape:\n\u001b[1;32m     11\u001b[0m     \u001b[38;5;28;01mfor\u001b[39;00m month \u001b[38;5;129;01min\u001b[39;00m months_to_scrape:\n\u001b[0;32m---> 12\u001b[0m         \u001b[43mtime\u001b[49m\u001b[38;5;241;43m.\u001b[39;49m\u001b[43msleep\u001b[49m\u001b[43m(\u001b[49m\u001b[43mdelay\u001b[49m\u001b[43m)\u001b[49m\n\u001b[1;32m     13\u001b[0m         url \u001b[38;5;241m=\u001b[39m \u001b[38;5;124mf\u001b[39m\u001b[38;5;124m\"\u001b[39m\u001b[38;5;124mhttps://api.nytimes.com/svc/archive/v1/\u001b[39m\u001b[38;5;132;01m{\u001b[39;00myear\u001b[38;5;132;01m}\u001b[39;00m\u001b[38;5;124m/\u001b[39m\u001b[38;5;132;01m{\u001b[39;00mmonth\u001b[38;5;132;01m}\u001b[39;00m\u001b[38;5;124m.json?api-key=\u001b[39m\u001b[38;5;132;01m{\u001b[39;00mapi_key\u001b[38;5;132;01m}\u001b[39;00m\u001b[38;5;124m\"\u001b[39m\n\u001b[1;32m     15\u001b[0m         \u001b[38;5;28;01mtry\u001b[39;00m:\n\u001b[1;32m     16\u001b[0m             \u001b[38;5;66;03m# Make the API request\u001b[39;00m\n",
      "\u001b[0;31mKeyboardInterrupt\u001b[0m: "
     ]
    }
   ],
   "source": [
    "# Define the years and months to scrape\n",
    "years_to_scrape = [2020, 2021, 2022]\n",
    "months_to_scrape = list(range(1, 13))\n",
    "# years_to_scrape = [2021]\n",
    "# months_to_scrape = [5]\n",
    "\n",
    "# Storage for collected articles\n",
    "articles = []\n",
    "delay = 30 # in seconds\n",
    "for year in years_to_scrape:\n",
    "    for month in months_to_scrape:\n",
    "        time.sleep(delay)\n",
    "        url = f\"https://api.nytimes.com/svc/archive/v1/{year}/{month}.json?api-key={api_key}\"\n",
    "        \n",
    "        try:\n",
    "            # Make the API request\n",
    "            response = requests.get(url)\n",
    "            response.raise_for_status()\n",
    "            \n",
    "            data = response.json()\n",
    "            docs = data.get('response', {}).get('docs', [])\n",
    "            \n",
    "            for doc in docs:\n",
    "                # Filter by document type\n",
    "                if doc.get('document_type') != 'article' or doc.get('news_desk') == \"Corrections\":\n",
    "                    continue\n",
    "                \n",
    "                # Extract the required fields\n",
    "                article = {\n",
    "                    \"abstract\": doc.get(\"abstract\"),\n",
    "                    \"source\": doc.get(\"source\"),\n",
    "                    \"web_url\": doc.get(\"web_url\"),\n",
    "                    \"keywords\": [kw.get(\"value\") for kw in doc.get(\"keywords\", [])],\n",
    "                    \"pub_date\": doc.get(\"pub_date\"),\n",
    "                    \"document_type\": doc.get(\"document_type\"),\n",
    "                    \"news_desk\": doc.get(\"news_desk\"),\n",
    "                    \"authors\": [\" \".join([by.get(\"firstname\", \"\"), by.get(\"lastname\", \"\")]) for by in doc.get(\"byline\", {}).get(\"person\", {})]\n",
    "                }\n",
    "                \n",
    "                # Append to the list of articles\n",
    "                articles.append(article)\n",
    "        \n",
    "        except requests.exceptions.RequestException as e:\n",
    "            print(f\"An error occurred for {year}-{month}: {e}\")\n",
    "\n",
    "# Save the data to a file\n",
    "with open(\"nytimes_articles.json\", \"w\") as f:\n",
    "    json.dump(articles, f, indent=2)\n",
    "\n",
    "print(f\"Scraping complete. {len(articles)} articles saved.\")\n",
    "\n",
    "            \n",
    "            "
   ]
  }
 ],
 "metadata": {
  "kernelspec": {
   "display_name": "Python 3",
   "language": "python",
   "name": "python3"
  },
  "language_info": {
   "codemirror_mode": {
    "name": "ipython",
    "version": 3
   },
   "file_extension": ".py",
   "mimetype": "text/x-python",
   "name": "python",
   "nbconvert_exporter": "python",
   "pygments_lexer": "ipython3",
   "version": "3.9.6"
  }
 },
 "nbformat": 4,
 "nbformat_minor": 2
}

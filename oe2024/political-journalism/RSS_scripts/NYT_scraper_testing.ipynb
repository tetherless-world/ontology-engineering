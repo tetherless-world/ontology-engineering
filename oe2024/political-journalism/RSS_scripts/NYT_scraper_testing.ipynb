{
 "cells": [
  {
   "cell_type": "code",
   "execution_count": 90,
   "metadata": {},
   "outputs": [],
   "source": [
    "import requests\n",
    "import random\n",
    "from dotenv import load_dotenv\n",
    "import os\n",
    "import time\n",
    "import json\n",
    "from collections import Counter\n",
    "\n"
   ]
  },
  {
   "cell_type": "code",
   "execution_count": 72,
   "metadata": {},
   "outputs": [],
   "source": [
    "load_dotenv(dotenv_path=\"api_keys.env\")\n",
    "api_key = os.getenv(\"API_KEY_NewYorkTimes\")\n",
    "url = f\"https://api.nytimes.com/svc/archive/v1/2020/10.json?api-key={api_key}\"\n",
    "\n",
    "response = requests.get(url)\n",
    "data = response.json()\n",
    "num_articles = data['response']['meta']['hits']"
   ]
  },
  {
   "cell_type": "code",
   "execution_count": 87,
   "metadata": {},
   "outputs": [
    {
     "name": "stdout",
     "output_type": "stream",
     "text": [
      "b'<!doctype html>\\n<html lang=en>\\n<title>404 Not Found</title>\\n<h1>Not Found</h1>\\n<p>The requested URL was not found on the server. If you entered the URL manually please check your spelling and try again.</p>\\n'\n"
     ]
    },
    {
     "ename": "JSONDecodeError",
     "evalue": "Expecting value: line 1 column 1 (char 0)",
     "output_type": "error",
     "traceback": [
      "\u001b[0;31m---------------------------------------------------------------------------\u001b[0m",
      "\u001b[0;31mJSONDecodeError\u001b[0m                           Traceback (most recent call last)",
      "File \u001b[0;32m~/Library/Python/3.9/lib/python/site-packages/requests/models.py:971\u001b[0m, in \u001b[0;36mResponse.json\u001b[0;34m(self, **kwargs)\u001b[0m\n\u001b[1;32m    970\u001b[0m \u001b[38;5;28;01mtry\u001b[39;00m:\n\u001b[0;32m--> 971\u001b[0m     \u001b[38;5;28;01mreturn\u001b[39;00m \u001b[43mcomplexjson\u001b[49m\u001b[38;5;241;43m.\u001b[39;49m\u001b[43mloads\u001b[49m\u001b[43m(\u001b[49m\u001b[38;5;28;43mself\u001b[39;49m\u001b[38;5;241;43m.\u001b[39;49m\u001b[43mtext\u001b[49m\u001b[43m,\u001b[49m\u001b[43m \u001b[49m\u001b[38;5;241;43m*\u001b[39;49m\u001b[38;5;241;43m*\u001b[39;49m\u001b[43mkwargs\u001b[49m\u001b[43m)\u001b[49m\n\u001b[1;32m    972\u001b[0m \u001b[38;5;28;01mexcept\u001b[39;00m JSONDecodeError \u001b[38;5;28;01mas\u001b[39;00m e:\n\u001b[1;32m    973\u001b[0m     \u001b[38;5;66;03m# Catch JSON-related errors and raise as requests.JSONDecodeError\u001b[39;00m\n\u001b[1;32m    974\u001b[0m     \u001b[38;5;66;03m# This aliases json.JSONDecodeError and simplejson.JSONDecodeError\u001b[39;00m\n",
      "File \u001b[0;32m/Library/Developer/CommandLineTools/Library/Frameworks/Python3.framework/Versions/3.9/lib/python3.9/json/__init__.py:346\u001b[0m, in \u001b[0;36mloads\u001b[0;34m(s, cls, object_hook, parse_float, parse_int, parse_constant, object_pairs_hook, **kw)\u001b[0m\n\u001b[1;32m    343\u001b[0m \u001b[38;5;28;01mif\u001b[39;00m (\u001b[38;5;28mcls\u001b[39m \u001b[38;5;129;01mis\u001b[39;00m \u001b[38;5;28;01mNone\u001b[39;00m \u001b[38;5;129;01mand\u001b[39;00m object_hook \u001b[38;5;129;01mis\u001b[39;00m \u001b[38;5;28;01mNone\u001b[39;00m \u001b[38;5;129;01mand\u001b[39;00m\n\u001b[1;32m    344\u001b[0m         parse_int \u001b[38;5;129;01mis\u001b[39;00m \u001b[38;5;28;01mNone\u001b[39;00m \u001b[38;5;129;01mand\u001b[39;00m parse_float \u001b[38;5;129;01mis\u001b[39;00m \u001b[38;5;28;01mNone\u001b[39;00m \u001b[38;5;129;01mand\u001b[39;00m\n\u001b[1;32m    345\u001b[0m         parse_constant \u001b[38;5;129;01mis\u001b[39;00m \u001b[38;5;28;01mNone\u001b[39;00m \u001b[38;5;129;01mand\u001b[39;00m object_pairs_hook \u001b[38;5;129;01mis\u001b[39;00m \u001b[38;5;28;01mNone\u001b[39;00m \u001b[38;5;129;01mand\u001b[39;00m \u001b[38;5;129;01mnot\u001b[39;00m kw):\n\u001b[0;32m--> 346\u001b[0m     \u001b[38;5;28;01mreturn\u001b[39;00m \u001b[43m_default_decoder\u001b[49m\u001b[38;5;241;43m.\u001b[39;49m\u001b[43mdecode\u001b[49m\u001b[43m(\u001b[49m\u001b[43ms\u001b[49m\u001b[43m)\u001b[49m\n\u001b[1;32m    347\u001b[0m \u001b[38;5;28;01mif\u001b[39;00m \u001b[38;5;28mcls\u001b[39m \u001b[38;5;129;01mis\u001b[39;00m \u001b[38;5;28;01mNone\u001b[39;00m:\n",
      "File \u001b[0;32m/Library/Developer/CommandLineTools/Library/Frameworks/Python3.framework/Versions/3.9/lib/python3.9/json/decoder.py:337\u001b[0m, in \u001b[0;36mJSONDecoder.decode\u001b[0;34m(self, s, _w)\u001b[0m\n\u001b[1;32m    333\u001b[0m \u001b[38;5;250m\u001b[39m\u001b[38;5;124;03m\"\"\"Return the Python representation of ``s`` (a ``str`` instance\u001b[39;00m\n\u001b[1;32m    334\u001b[0m \u001b[38;5;124;03mcontaining a JSON document).\u001b[39;00m\n\u001b[1;32m    335\u001b[0m \n\u001b[1;32m    336\u001b[0m \u001b[38;5;124;03m\"\"\"\u001b[39;00m\n\u001b[0;32m--> 337\u001b[0m obj, end \u001b[38;5;241m=\u001b[39m \u001b[38;5;28;43mself\u001b[39;49m\u001b[38;5;241;43m.\u001b[39;49m\u001b[43mraw_decode\u001b[49m\u001b[43m(\u001b[49m\u001b[43ms\u001b[49m\u001b[43m,\u001b[49m\u001b[43m \u001b[49m\u001b[43midx\u001b[49m\u001b[38;5;241;43m=\u001b[39;49m\u001b[43m_w\u001b[49m\u001b[43m(\u001b[49m\u001b[43ms\u001b[49m\u001b[43m,\u001b[49m\u001b[43m \u001b[49m\u001b[38;5;241;43m0\u001b[39;49m\u001b[43m)\u001b[49m\u001b[38;5;241;43m.\u001b[39;49m\u001b[43mend\u001b[49m\u001b[43m(\u001b[49m\u001b[43m)\u001b[49m\u001b[43m)\u001b[49m\n\u001b[1;32m    338\u001b[0m end \u001b[38;5;241m=\u001b[39m _w(s, end)\u001b[38;5;241m.\u001b[39mend()\n",
      "File \u001b[0;32m/Library/Developer/CommandLineTools/Library/Frameworks/Python3.framework/Versions/3.9/lib/python3.9/json/decoder.py:355\u001b[0m, in \u001b[0;36mJSONDecoder.raw_decode\u001b[0;34m(self, s, idx)\u001b[0m\n\u001b[1;32m    354\u001b[0m \u001b[38;5;28;01mexcept\u001b[39;00m \u001b[38;5;167;01mStopIteration\u001b[39;00m \u001b[38;5;28;01mas\u001b[39;00m err:\n\u001b[0;32m--> 355\u001b[0m     \u001b[38;5;28;01mraise\u001b[39;00m JSONDecodeError(\u001b[38;5;124m\"\u001b[39m\u001b[38;5;124mExpecting value\u001b[39m\u001b[38;5;124m\"\u001b[39m, s, err\u001b[38;5;241m.\u001b[39mvalue) \u001b[38;5;28;01mfrom\u001b[39;00m \u001b[38;5;28;01mNone\u001b[39;00m\n\u001b[1;32m    356\u001b[0m \u001b[38;5;28;01mreturn\u001b[39;00m obj, end\n",
      "\u001b[0;31mJSONDecodeError\u001b[0m: Expecting value: line 1 column 1 (char 0)",
      "\nDuring handling of the above exception, another exception occurred:\n",
      "\u001b[0;31mJSONDecodeError\u001b[0m                           Traceback (most recent call last)",
      "Cell \u001b[0;32mIn[87], line 6\u001b[0m\n\u001b[1;32m      4\u001b[0m response \u001b[38;5;241m=\u001b[39m requests\u001b[38;5;241m.\u001b[39mget(url)\n\u001b[1;32m      5\u001b[0m \u001b[38;5;28mprint\u001b[39m(response\u001b[38;5;241m.\u001b[39mcontent)\n\u001b[0;32m----> 6\u001b[0m data \u001b[38;5;241m=\u001b[39m \u001b[43mresponse\u001b[49m\u001b[38;5;241;43m.\u001b[39;49m\u001b[43mjson\u001b[49m\u001b[43m(\u001b[49m\u001b[43m)\u001b[49m\n\u001b[1;32m      7\u001b[0m \u001b[38;5;28mprint\u001b[39m(data)\n",
      "File \u001b[0;32m~/Library/Python/3.9/lib/python/site-packages/requests/models.py:975\u001b[0m, in \u001b[0;36mResponse.json\u001b[0;34m(self, **kwargs)\u001b[0m\n\u001b[1;32m    971\u001b[0m     \u001b[38;5;28;01mreturn\u001b[39;00m complexjson\u001b[38;5;241m.\u001b[39mloads(\u001b[38;5;28mself\u001b[39m\u001b[38;5;241m.\u001b[39mtext, \u001b[38;5;241m*\u001b[39m\u001b[38;5;241m*\u001b[39mkwargs)\n\u001b[1;32m    972\u001b[0m \u001b[38;5;28;01mexcept\u001b[39;00m JSONDecodeError \u001b[38;5;28;01mas\u001b[39;00m e:\n\u001b[1;32m    973\u001b[0m     \u001b[38;5;66;03m# Catch JSON-related errors and raise as requests.JSONDecodeError\u001b[39;00m\n\u001b[1;32m    974\u001b[0m     \u001b[38;5;66;03m# This aliases json.JSONDecodeError and simplejson.JSONDecodeError\u001b[39;00m\n\u001b[0;32m--> 975\u001b[0m     \u001b[38;5;28;01mraise\u001b[39;00m RequestsJSONDecodeError(e\u001b[38;5;241m.\u001b[39mmsg, e\u001b[38;5;241m.\u001b[39mdoc, e\u001b[38;5;241m.\u001b[39mpos)\n",
      "\u001b[0;31mJSONDecodeError\u001b[0m: Expecting value: line 1 column 1 (char 0)"
     ]
    }
   ],
   "source": [
    "load_dotenv(dotenv_path=\"api_keys.env\")\n",
    "api_key = os.getenv(\"API_KEY_NewYorkTimes\")\n",
    "url = f\"http://api.nytimes.com/svc/semantic/v2/concept/search.json(?optional_parameters)&api-key={api_key}\"\n",
    "response = requests.get(url)\n",
    "print(response.content)\n",
    "data = response.json()\n",
    "print(data)"
   ]
  },
  {
   "cell_type": "code",
   "execution_count": 89,
   "metadata": {},
   "outputs": [
    {
     "name": "stdout",
     "output_type": "stream",
     "text": [
      "Tags/Keywords: [{'name': 'subject', 'value': 'Politics and Government', 'rank': 1, 'major': 'N'}, {'name': 'subject', 'value': 'Elections', 'rank': 2, 'major': 'N'}, {'name': 'subject', 'value': 'Movies', 'rank': 3, 'major': 'N'}, {'name': 'subject', 'value': 'United States Politics and Government', 'rank': 4, 'major': 'N'}, {'name': 'creative_works', 'value': 'Dr Strangelove: Or How I Learned to Stop Worrying and Love the Bomb (Movie)', 'rank': 5, 'major': 'N'}]\n",
      "Tags/Keywords: [{'name': 'persons', 'value': 'Musk, Elon', 'rank': 1, 'major': 'N'}, {'name': 'subject', 'value': 'United States Politics and Government', 'rank': 2, 'major': 'N'}, {'name': 'subject', 'value': 'Federal Budget (US)', 'rank': 3, 'major': 'N'}, {'name': 'organizations', 'value': 'House of Representatives', 'rank': 4, 'major': 'N'}, {'name': 'organizations', 'value': 'Republican Party', 'rank': 5, 'major': 'N'}, {'name': 'persons', 'value': 'Johnson, Mike (1972- )', 'rank': 6, 'major': 'N'}, {'name': 'persons', 'value': 'Trump, Donald J', 'rank': 7, 'major': 'N'}, {'name': 'subject', 'value': 'Rumors and Misinformation', 'rank': 8, 'major': 'N'}, {'name': 'subject', 'value': 'High Net Worth Individuals', 'rank': 9, 'major': 'N'}]\n",
      "Tags/Keywords: [{'name': 'subject', 'value': 'United States Politics and Government', 'rank': 1, 'major': 'N'}, {'name': 'subject', 'value': 'Law and Legislation', 'rank': 2, 'major': 'N'}, {'name': 'subject', 'value': 'Federal Budget (US)', 'rank': 3, 'major': 'N'}, {'name': 'persons', 'value': 'Biden, Joseph R Jr', 'rank': 4, 'major': 'N'}]\n",
      "Tags/Keywords: [{'name': 'glocations', 'value': 'Canada', 'rank': 1, 'major': 'N'}, {'name': 'subject', 'value': 'United States International Relations', 'rank': 2, 'major': 'N'}, {'name': 'persons', 'value': 'Trump, Donald J', 'rank': 3, 'major': 'N'}, {'name': 'persons', 'value': 'Trudeau, Justin', 'rank': 4, 'major': 'N'}, {'name': 'persons', 'value': 'Freeland, Chrystia', 'rank': 5, 'major': 'N'}, {'name': 'subject', 'value': 'Politics and Government', 'rank': 6, 'major': 'N'}, {'name': 'organizations', 'value': 'Conservative Party (Canada)', 'rank': 7, 'major': 'N'}, {'name': 'organizations', 'value': 'Liberal Party (Canada)', 'rank': 8, 'major': 'N'}, {'name': 'subject', 'value': 'International Trade and World Market', 'rank': 9, 'major': 'N'}, {'name': 'subject', 'value': 'Customs (Tariff)', 'rank': 10, 'major': 'N'}, {'name': 'subject', 'value': 'Protectionism (Trade)', 'rank': 11, 'major': 'N'}, {'name': 'subject', 'value': 'Polls and Public Opinion', 'rank': 12, 'major': 'N'}]\n",
      "Tags/Keywords: [{'name': 'subject', 'value': 'Virtual Currency', 'rank': 1, 'major': 'N'}, {'name': 'subject', 'value': 'Banking and Financial Institutions', 'rank': 2, 'major': 'N'}, {'name': 'subject', 'value': 'Entrepreneurship', 'rank': 3, 'major': 'N'}, {'name': 'subject', 'value': 'Start-ups', 'rank': 4, 'major': 'N'}, {'name': 'subject', 'value': 'Venture Capital', 'rank': 5, 'major': 'N'}, {'name': 'subject', 'value': 'Computers and the Internet', 'rank': 6, 'major': 'N'}, {'name': 'subject', 'value': 'Regulation and Deregulation of Industry', 'rank': 7, 'major': 'N'}, {'name': 'subject', 'value': 'Bitcoin (Currency)', 'rank': 8, 'major': 'N'}, {'name': 'subject', 'value': 'United States Politics and Government', 'rank': 9, 'major': 'N'}, {'name': 'organizations', 'value': 'Silicon Valley Bank', 'rank': 10, 'major': 'N'}, {'name': 'persons', 'value': 'Andreessen, Marc L', 'rank': 11, 'major': 'N'}]\n",
      "Tags/Keywords: [{'name': 'persons', 'value': 'Harris, Kamala D', 'rank': 1, 'major': 'N'}, {'name': 'subject', 'value': 'Presidential Election of 2024', 'rank': 2, 'major': 'N'}, {'name': 'organizations', 'value': 'Democratic Party', 'rank': 3, 'major': 'N'}, {'name': 'subject', 'value': 'United States Politics and Government', 'rank': 4, 'major': 'N'}]\n",
      "Tags/Keywords: [{'name': 'subject', 'value': 'United States Politics and Government', 'rank': 1, 'major': 'N'}, {'name': 'subject', 'value': 'Presidential Election of 2024', 'rank': 2, 'major': 'N'}, {'name': 'subject', 'value': 'Presidential Transition (US)', 'rank': 3, 'major': 'N'}, {'name': 'persons', 'value': 'Trump, Donald J', 'rank': 4, 'major': 'N'}]\n",
      "Tags/Keywords: [{'name': 'subject', 'value': 'Books and Literature', 'rank': 1, 'major': 'N'}, {'name': 'subject', 'value': 'Politics and Government', 'rank': 2, 'major': 'N'}, {'name': 'subject', 'value': 'United States Politics and Government', 'rank': 3, 'major': 'N'}, {'name': 'persons', 'value': 'Trump, Donald J', 'rank': 4, 'major': 'N'}, {'name': 'subject', 'value': 'Presidential Election of 2024', 'rank': 5, 'major': 'N'}, {'name': 'glocations', 'value': 'United States', 'rank': 6, 'major': 'N'}, {'name': 'creative_works', 'value': 'American Politics: The Promise of Disharmony (Book)', 'rank': 7, 'major': 'N'}, {'name': 'persons', 'value': 'Huntington, Samuel P', 'rank': 8, 'major': 'N'}, {'name': 'persons', 'value': 'Slepian, Dan', 'rank': 9, 'major': 'N'}, {'name': 'creative_works', 'value': 'The Sing Sing Files: One Journalist, Six Innocent Men and a 20 Year Fight for Justice (Book)', 'rank': 10, 'major': 'N'}, {'name': 'subject', 'value': 'audio-neutral-informative', 'rank': 11, 'major': 'N'}]\n",
      "Tags/Keywords: [{'name': 'organizations', 'value': 'Democratic Party', 'rank': 1, 'major': 'N'}, {'name': 'subject', 'value': 'Religion and Belief', 'rank': 2, 'major': 'N'}, {'name': 'subject', 'value': 'Presidential Election of 2024', 'rank': 3, 'major': 'N'}, {'name': 'persons', 'value': 'Warnock, Raphael G', 'rank': 4, 'major': 'N'}, {'name': 'persons', 'value': 'Shapiro, Josh (1973- )', 'rank': 5, 'major': 'N'}, {'name': 'persons', 'value': 'Buttigieg, Pete (1982- )', 'rank': 6, 'major': 'N'}, {'name': 'persons', 'value': 'Beshear, Andrew G (1977- )', 'rank': 7, 'major': 'N'}, {'name': 'subject', 'value': 'United States Politics and Government', 'rank': 8, 'major': 'N'}]\n",
      "Tags/Keywords: [{'name': 'subject', 'value': 'United States Politics and Government', 'rank': 1, 'major': 'N'}, {'name': 'subject', 'value': 'Conservatism (US Politics)', 'rank': 2, 'major': 'N'}, {'name': 'subject', 'value': 'Illegal Immigration', 'rank': 3, 'major': 'N'}, {'name': 'organizations', 'value': 'Turning Point USA', 'rank': 4, 'major': 'N'}, {'name': 'organizations', 'value': 'Republican Party', 'rank': 5, 'major': 'N'}, {'name': 'persons', 'value': 'Trump, Donald J', 'rank': 6, 'major': 'N'}, {'name': 'persons', 'value': 'Musk, Elon', 'rank': 7, 'major': 'N'}, {'name': 'glocations', 'value': 'Phoenix (Ariz)', 'rank': 8, 'major': 'N'}, {'name': 'subject', 'value': 'Diversity Initiatives', 'rank': 9, 'major': 'N'}]\n"
     ]
    }
   ],
   "source": []
  },
  {
   "cell_type": "code",
   "execution_count": 3,
   "metadata": {},
   "outputs": [
    {
     "data": {
      "text/plain": [
       "dict_keys(['abstract', 'web_url', 'snippet', 'lead_paragraph', 'source', 'multimedia', 'headline', 'keywords', 'pub_date', 'document_type', 'news_desk', 'section_name', 'subsection_name', 'byline', 'type_of_material', '_id', 'word_count', 'uri'])"
      ]
     },
     "execution_count": 3,
     "metadata": {},
     "output_type": "execute_result"
    }
   ],
   "source": [
    "data['response']['docs'][1].keys()"
   ]
  },
  {
   "cell_type": "code",
   "execution_count": 27,
   "metadata": {},
   "outputs": [
    {
     "name": "stdout",
     "output_type": "stream",
     "text": [
      "Ioannis Lagos was a leading member of the extreme-right and now-defunct Golden Dawn, which rose to political prominence in 2012 at the peak of the Greece’s financial crisis.\n",
      "[{'name': 'subject', 'value': 'Neo Nazi Groups', 'rank': 1, 'major': 'N'}, {'name': 'organizations', 'value': 'Golden Dawn (Greece)', 'rank': 2, 'major': 'N'}, {'name': 'organizations', 'value': 'European Parliament', 'rank': 3, 'major': 'N'}, {'name': 'glocations', 'value': 'Greece', 'rank': 4, 'major': 'N'}]\n",
      "Foreign\n",
      "article\n",
      "{'original': 'By Niki Kitsantonis', 'person': [{'firstname': 'Niki', 'middlename': None, 'lastname': 'Kitsantonis', 'qualifier': None, 'title': None, 'role': 'reported', 'organization': '', 'rank': 1}], 'organization': None}\n"
     ]
    }
   ],
   "source": [
    "'''Keys we need\n",
    "=> abstract: longer headline \n",
    "=> source: publisher name\n",
    "=> web_url: where to find the article\n",
    "=> keywords: translates into topics and areas\n",
    "=> pub date: for date of publication\n",
    "=> Document type: used for pre_filtering by if media is an article, video, etc\n",
    "=> news desk: Op ed,book review ===> needed to filter\\\n",
    "=> byline: gives us author'''\n",
    "i = 2040\n",
    "\n",
    "print(data['response']['docs'][i]['abstract'])\n",
    "print(data['response']['docs'][i]['keywords'])\n",
    "print(data['response']['docs'][i]['news_desk'])\n",
    "print(data['response']['docs'][i]['document_type'])\n",
    "print(data['response']['docs'][i]['byline'])"
   ]
  },
  {
   "cell_type": "code",
   "execution_count": 5,
   "metadata": {},
   "outputs": [
    {
     "name": "stdout",
     "output_type": "stream",
     "text": [
      "{'OpEd': 297, 'Sports': 261, 'Politics': 617, 'Business': 367, 'The Learning Network': 8, 'Games': 40, 'Summary': 49, 'Corrections': 29, 'NYTNow': 114, 'Styles': 120, 'Learning': 105, 'Culture': 303, 'Science': 137, 'Foreign': 457, 'Magazine': 54, 'Real Estate': 38, 'BookReview': 131, 'Climate': 40, 'Neediest': 5, '': 157, 'Metro': 139, 'Upshot': 26, 'Arts&Leisure': 43, 'Metropolitan': 27, 'Weekend': 104, 'National': 161, 'Well': 61, 'Dining': 89, 'Washington': 257, 'Podcasts': 34, 'TStyle': 25, 'RealEstate': 69, 'Parenting': 28, 'Obits': 116, 'NewsDesk': 23, 'Letters': 58, 'Express': 130, 'Gender': 11, 'Opinion': 24, 'Society': 44, 'New York': 9, 'Briefing': 9, 'Travel': 22, 'U.S.': 182, 'SundayBusiness': 35, 'Editorial': 37, 'Books': 23, 'Test': 1, 'Health': 4, 'AtHome': 32, 'Smarter Living': 12, 'Business Day': 1, 'SpecialSections': 34, 'Universal': 1, 'The Upshot': 7, 'Food': 3, 'Technology': 7, 'Burst': 2, 'Multimedia/Photos': 2, 'Arts': 5, 'Investigative': 7, 'Video': 2, 'Admin': 1, 'Style': 7, 'Insider': 1, 'Theater': 1, 'T Magazine': 6, 'NYTI': 1, 'World': 1, 'At Home': 1, 'Live': 1, 'Movies': 2}\n"
     ]
    }
   ],
   "source": [
    "\n",
    "outlets = {}\n",
    "for i in range(num_articles):\n",
    "    s = data['response']['docs'][i]['news_desk']\n",
    "    if s in outlets:\n",
    "        outlets[s] += 1\n",
    "    else:\n",
    "        outlets[s] = 1 \n",
    "\n",
    "print(outlets)"
   ]
  },
  {
   "cell_type": "code",
   "execution_count": null,
   "metadata": {},
   "outputs": [],
   "source": [
    "# Define the years and months to scrape\n",
    "years_to_scrape = [2020, 2021, 2022]\n",
    "months_to_scrape = list(range(1, 13))\n",
    "# years_to_scrape = [2021]\n",
    "# months_to_scrape = [5]\n",
    "\n",
    "# Storage for collected articles\n",
    "articles = []\n",
    "delay = 30 # in seconds\n",
    "for year in years_to_scrape:\n",
    "    for month in months_to_scrape:\n",
    "        time.sleep(delay)\n",
    "        url = f\"https://api.nytimes.com/svc/archive/v1/{year}/{month}.json?api-key={api_key}\"\n",
    "        \n",
    "        try:\n",
    "            # Make the API request\n",
    "            response = requests.get(url)\n",
    "            response.raise_for_status()\n",
    "            \n",
    "            data = response.json()\n",
    "            docs = data.get('response', {}).get('docs', [])\n",
    "            \n",
    "            for doc in docs:\n",
    "                # Filter by document type\n",
    "                if doc.get('document_type') != 'article' or doc.get('news_desk') == \"Corrections\":\n",
    "                    continue\n",
    "                \n",
    "                # Extract the required fields\n",
    "                article = {\n",
    "                    \"abstract\": doc.get(\"abstract\"),\n",
    "                    \"source\": doc.get(\"source\"),\n",
    "                    \"web_url\": doc.get(\"web_url\"),\n",
    "                    \"keywords\": [kw.get(\"value\") for kw in doc.get(\"keywords\", [])],\n",
    "                    \"pub_date\": doc.get(\"pub_date\"),\n",
    "                    \"document_type\": doc.get(\"document_type\"),\n",
    "                    \"news_desk\": doc.get(\"news_desk\"),\n",
    "                    \"authors\": [\" \".join([by.get(\"firstname\", \"\"), by.get(\"lastname\", \"\")]) for by in doc.get(\"byline\", {}).get(\"person\", {})]\n",
    "                }\n",
    "                \n",
    "                # Append to the list of articles\n",
    "                articles.append(article)\n",
    "        \n",
    "        except requests.exceptions.RequestException as e:\n",
    "            print(f\"An error occurred for {year}-{month}: {e}\")\n",
    "\n",
    "# Save the data to a file\n",
    "with open(\"nytimes_articles.json\", \"w\") as f:\n",
    "    json.dump(articles, f, indent=2)\n",
    "\n",
    "print(f\"Scraping complete. {len(articles)} articles saved.\")\n",
    "\n",
    "            \n",
    "            "
   ]
  },
  {
   "cell_type": "code",
   "execution_count": 92,
   "metadata": {},
   "outputs": [
    {
     "name": "stdout",
     "output_type": "stream",
     "text": [
      "1957\n"
     ]
    }
   ],
   "source": [
    "#Using the NYT semantic API to scrape top level article topics\n",
    "with open(\"nytimes_articles.json\", \"r\") as f:\n",
    "    articles = json.load(f)\n",
    "\n",
    "keyword_counts = Counter()\n",
    "for article in articles:\n",
    "    keywords = article.get(\"keywords\", [])\n",
    "    keyword_counts.update(keywords)\n",
    "\n",
    "common_keyword_threshold = 50\n",
    "common_keywords = {}\n",
    "\n",
    "for keyword in keyword_counts:\n",
    "    if keyword_counts[keyword] > common_keyword_threshold:\n",
    "        common_keywords[keyword] = keyword_counts[keyword]\n",
    "print(len(common_keywords))"
   ]
  },
  {
   "cell_type": "code",
   "execution_count": null,
   "metadata": {},
   "outputs": [],
   "source": []
  }
 ],
 "metadata": {
  "kernelspec": {
   "display_name": "Python 3",
   "language": "python",
   "name": "python3"
  },
  "language_info": {
   "codemirror_mode": {
    "name": "ipython",
    "version": 3
   },
   "file_extension": ".py",
   "mimetype": "text/x-python",
   "name": "python",
   "nbconvert_exporter": "python",
   "pygments_lexer": "ipython3",
   "version": "3.9.6"
  }
 },
 "nbformat": 4,
 "nbformat_minor": 2
}
